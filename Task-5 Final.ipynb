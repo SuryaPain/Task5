{
 "cells": [
  {
   "cell_type": "code",
   "execution_count": 22,
   "metadata": {},
   "outputs": [
    {
     "name": "stdout",
     "output_type": "stream",
     "text": [
      "Count of A 1\n",
      "Count of E 5\n",
      "Count of I 4\n",
      "Count of O 1\n",
      "Count of U 1\n",
      "Total Vowels 12\n"
     ]
    }
   ],
   "source": [
    "count_a = 0 #1\n",
    "count_e = 0\n",
    "count_i = 0\n",
    "count_o = 0\n",
    "count_u = 0\n",
    "a=\"guvi geeks network private limited\"\n",
    "for i in a:\n",
    "    if (i==\"a\"):\n",
    "        count_a += 1\n",
    "    elif (i==\"e\"):\n",
    "        count_e += 1\n",
    "    elif (i==\"i\"):\n",
    "        count_i += 1\n",
    "    elif (i==\"o\"):\n",
    "        count_o += 1\n",
    "    elif (i==\"u\"):\n",
    "        count_u += 1\n",
    "total_vowels = count_a + count_e + count_i + count_o + count_u\n",
    "print(\"Count of A\", count_a)\n",
    "print(\"Count of E\", count_e)\n",
    "print(\"Count of I\", count_i)\n",
    "print(\"Count of O\", count_o)\n",
    "print(\"Count of U\", count_u)\n",
    "print(\"Total Vowels\", total_vowels)\n",
    "  "
   ]
  },
  {
   "cell_type": "code",
   "execution_count": 2,
   "metadata": {},
   "outputs": [
    {
     "name": "stdout",
     "output_type": "stream",
     "text": [
      "['J', 'y', 's', 'r', 'y']\n"
     ]
    }
   ],
   "source": [
    "Vowels = ['a','e','i','o','u'] #3\n",
    "string = list(\"Jayasurya\")\n",
    "for i in string:\n",
    "    if i in Vowels:\n",
    "        string.remove(i)\n",
    "print(string)"
   ]
  },
  {
   "cell_type": "code",
   "execution_count": 5,
   "metadata": {},
   "outputs": [
    {
     "name": "stdout",
     "output_type": "stream",
     "text": [
      "{'J', 'r', 's', 'y'}\n",
      "4\n"
     ]
    }
   ],
   "source": [
    "String = \"Jayasurya\" #4\n",
    "Unique = set(string)\n",
    "print(Unique)\n",
    "print(len(Unique))"
   ]
  },
  {
   "cell_type": "code",
   "execution_count": 7,
   "metadata": {},
   "outputs": [
    {
     "name": "stdout",
     "output_type": "stream",
     "text": [
      "True\n"
     ]
    }
   ],
   "source": [
    "string1 = \"malayalam\" #5\n",
    "string2 = string1[::-1]\n",
    "if string1 == string2:\n",
    "    print(\"True\")\n",
    "else:\n",
    "    print(\"False\")"
   ]
  },
  {
   "cell_type": "code",
   "execution_count": null,
   "metadata": {},
   "outputs": [],
   "source": [
    "str1= \"apples pies avaiable\" #6 (Doubt)\n",
    "str2 = \"apples pies\"\n",
    "answer = \"\"\n",
    "a,b = len(str1), len(str2)\n",
    "for i in range(a):\n",
    "    match = \"\"\n",
    "    for j in range(b):\n",
    "        if(i + j < a and str1[i + j] == str2[j]):\n",
    "            match += str2[j]\n",
    "        else:\n",
    "            if(len(match)> len(answer)):\n",
    "                answer = match\n",
    "            match= \"\"\n",
    "    print(answer)\n",
    "\n"
   ]
  },
  {
   "cell_type": "code",
   "execution_count": 39,
   "metadata": {},
   "outputs": [
    {
     "name": "stdout",
     "output_type": "stream",
     "text": [
      "True\n"
     ]
    }
   ],
   "source": [
    "string1 = \"elegant man\" #8\n",
    "string2 = \"a gentleman\"\n",
    "if sorted(string1) == sorted(string2):\n",
    "    print(True)\n",
    "else:\n",
    "    print(False)\n"
   ]
  },
  {
   "cell_type": "code",
   "execution_count": 42,
   "metadata": {},
   "outputs": [
    {
     "name": "stdout",
     "output_type": "stream",
     "text": [
      "['apple', 'mango', 'apple', 'guava', 'mango', 'apple']\n"
     ]
    }
   ],
   "source": [
    "sentence = \"apple mango apple guava mango apple\" #7\n",
    "k = sentence.split()\n",
    "print(k)"
   ]
  },
  {
   "cell_type": "code",
   "execution_count": 44,
   "metadata": {},
   "outputs": [
    {
     "name": "stdout",
     "output_type": "stream",
     "text": [
      "3\n"
     ]
    }
   ],
   "source": [
    "sentence = \"where am i\" #9\n",
    "k = sentence.split()\n",
    "print (len(k))"
   ]
  },
  {
   "cell_type": "code",
   "execution_count": 52,
   "metadata": {},
   "outputs": [
    {
     "name": "stdout",
     "output_type": "stream",
     "text": [
      "a\n"
     ]
    }
   ],
   "source": [
    "fruits = \"jaanu\" #7 doubt\n",
    "d = {}\n",
    "for i in fruits:\n",
    "    if i in d:\n",
    "        d[i] = d[i]+1\n",
    "    else:\n",
    "        d[i] = 1\n",
    "result = max(d,key = d.get)\n",
    "print (result)\n"
   ]
  },
  {
   "cell_type": "code",
   "execution_count": 9,
   "metadata": {},
   "outputs": [
    {
     "name": "stdout",
     "output_type": "stream",
     "text": [
      "          1 \n",
      "         1 2 \n",
      "        1 2 3 \n",
      "       1 2 3 4 \n",
      "      1 2 3 4 5 \n",
      "     1 2 3 4 5 6 \n",
      "    1 2 3 4 5 6 7 \n",
      "   1 2 3 4 5 6 7 8 \n",
      "  1 2 3 4 5 6 7 8 9 \n",
      " 1 2 3 4 5 6 7 8 9 10 \n",
      "1 2 3 4 5 6 7 8 9 10 11 \n"
     ]
    }
   ],
   "source": [
    "a = 11 #2\n",
    "for i in range(1,a+1):\n",
    "    print(\" \"*(a-i), end=\"\")\n",
    "    for j in range (1,i+1):\n",
    "        print(j,end=\" \")\n",
    "    print()"
   ]
  },
  {
   "cell_type": "code",
   "execution_count": 10,
   "metadata": {},
   "outputs": [
    {
     "name": "stdout",
     "output_type": "stream",
     "text": [
      "most_frequent_character: p\n"
     ]
    }
   ],
   "source": [
    "def most_frequent_character(string): #6\n",
    "    char_count = {}\n",
    "    for char in string:\n",
    "        if char in char_count:\n",
    "            char_count[char] += 1\n",
    "        else:\n",
    "            char_count[char] = 1\n",
    "    max_count = 0\n",
    "    most_frequent_char = None\n",
    "    for char, count in char_count.items():\n",
    "        if count > max_count:\n",
    "            max_count = count\n",
    "            most_frequent_char = char\n",
    "    \n",
    "    return most_frequent_char\n",
    "Example = \"Apple pies available\"\n",
    "result = most_frequent_character(Example)\n",
    "print(\"most_frequent_character:\", result)"
   ]
  }
 ],
 "metadata": {
  "kernelspec": {
   "display_name": "Python 3",
   "language": "python",
   "name": "python3"
  },
  "language_info": {
   "codemirror_mode": {
    "name": "ipython",
    "version": 3
   },
   "file_extension": ".py",
   "mimetype": "text/x-python",
   "name": "python",
   "nbconvert_exporter": "python",
   "pygments_lexer": "ipython3",
   "version": "3.12.2"
  }
 },
 "nbformat": 4,
 "nbformat_minor": 2
}
