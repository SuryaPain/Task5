{
 "cells": [
  {
   "cell_type": "code",
   "execution_count": 4,
   "metadata": {},
   "outputs": [
    {
     "name": "stdout",
     "output_type": "stream",
     "text": [
      "Even numbers [10, 22, 100]\n",
      "Odd numbers [501, 37, 999, 87, 351]\n"
     ]
    }
   ],
   "source": [
    "a=[10,501,22,37,100,999,87,351] #1\n",
    "Even=[]\n",
    "Odd=[]\n",
    "for i in a:\n",
    "    if(i%2==0):\n",
    "        Even.append(i)\n",
    "    else:\n",
    "        Odd.append(i)\n",
    "print(\"Even numbers\",Even)\n",
    "print(\"Odd numbers\",Odd)"
   ]
  },
  {
   "cell_type": "code",
   "execution_count": 39,
   "metadata": {},
   "outputs": [
    {
     "ename": "KeyboardInterrupt",
     "evalue": "",
     "output_type": "error",
     "traceback": [
      "\u001b[1;31m---------------------------------------------------------------------------\u001b[0m",
      "\u001b[1;31mKeyboardInterrupt\u001b[0m                         Traceback (most recent call last)",
      "Cell \u001b[1;32mIn[39], line 13\u001b[0m\n\u001b[0;32m     11\u001b[0m                 b\u001b[38;5;241m.\u001b[39mappend(a[i])\n\u001b[0;32m     12\u001b[0m         \u001b[38;5;28;01mreturn\u001b[39;00m b\n\u001b[1;32m---> 13\u001b[0m \u001b[38;5;28mprint\u001b[39m(\u001b[43mis_happy\u001b[49m\u001b[43m(\u001b[49m\u001b[43ma\u001b[49m\u001b[43m)\u001b[49m)\n",
      "Cell \u001b[1;32mIn[39], line 8\u001b[0m, in \u001b[0;36mis_happy\u001b[1;34m(a)\u001b[0m\n\u001b[0;32m      6\u001b[0m \u001b[38;5;28;01mfor\u001b[39;00m digit \u001b[38;5;129;01min\u001b[39;00m \u001b[38;5;28mstr\u001b[39m(a[i]):\n\u001b[0;32m      7\u001b[0m      \u001b[38;5;28msum\u001b[39m \u001b[38;5;241m=\u001b[39m \u001b[38;5;241m0\u001b[39m\n\u001b[1;32m----> 8\u001b[0m \u001b[38;5;28;01mwhile\u001b[39;00m \u001b[38;5;28msum\u001b[39m \u001b[38;5;241m!=\u001b[39m \u001b[38;5;241m1\u001b[39m \u001b[38;5;129;01mand\u001b[39;00m \u001b[38;5;28msum\u001b[39m \u001b[38;5;241m!=\u001b[39m\u001b[38;5;241m4\u001b[39m:      \n\u001b[0;32m      9\u001b[0m         \u001b[38;5;28msum\u001b[39m \u001b[38;5;241m=\u001b[39m \u001b[38;5;28msum\u001b[39m \u001b[38;5;241m+\u001b[39m \u001b[38;5;28mint\u001b[39m(digit) \u001b[38;5;241m*\u001b[39m\u001b[38;5;241m*\u001b[39m \u001b[38;5;241m2\u001b[39m\n\u001b[0;32m     10\u001b[0m \u001b[38;5;28;01mif\u001b[39;00m \u001b[38;5;28msum\u001b[39m\u001b[38;5;241m==\u001b[39m\u001b[38;5;241m1\u001b[39m:\n",
      "\u001b[1;31mKeyboardInterrupt\u001b[0m: "
     ]
    }
   ],
   "source": [
    "input=[10,501,22,37,100,999,87,351] #3\n",
    "b=[]\n",
    "def is_happy(a):\n",
    "    for i in range (len(a)):\n",
    "        sum = a[i]\n",
    "        for digit in str(a[i]):\n",
    "             sum = 0\n",
    "        while sum != 1 and sum !=4:      \n",
    "                sum = sum + int(digit) ** 2\n",
    "        if sum==1:\n",
    "                b.append(a[i])\n",
    "        return b\n",
    "print(is_happy(a))"
   ]
  },
  {
   "cell_type": "code",
   "execution_count": 25,
   "metadata": {},
   "outputs": [
    {
     "name": "stdout",
     "output_type": "stream",
     "text": [
      "9\n"
     ]
    }
   ],
   "source": [
    "number = 12474568 #4\n",
    " \n",
    "number = str(number)\n",
    " \n",
    "first_digit = int(number[0])\n",
    "last_digit = int(number[-1])\n",
    "\n",
    "addition = first_digit + last_digit\n",
    " \n",
    "print(addition)"
   ]
  },
  {
   "cell_type": "code",
   "execution_count": 37,
   "metadata": {},
   "outputs": [
    {
     "name": "stdout",
     "output_type": "stream",
     "text": [
      "[1, 'one']\n"
     ]
    }
   ],
   "source": [
    "glist=[1, 2, 3, \"one\", 5, 6, 1, \"one\"] #6\n",
    "x=set(glist)\n",
    "dup=[]\n",
    "for c in x:\n",
    "    if(glist.count(c)>1):\n",
    "        dup.append(c)\n",
    "print(dup)"
   ]
  },
  {
   "cell_type": "code",
   "execution_count": 3,
   "metadata": {},
   "outputs": [
    {
     "name": "stdout",
     "output_type": "stream",
     "text": [
      "The number of prime numbers in the list is: 1\n"
     ]
    }
   ],
   "source": [
    "\n",
    "a = [10,501,22,37,100,999,87,351] #2\n",
    "def is_prime(num):\n",
    "    if num < 2:\n",
    "        return False\n",
    "    for i in range(2, int(num**0.5) + 1):\n",
    "        if num % i == 0:\n",
    "            return False\n",
    "    return True\n",
    "\n",
    "def count_primes_in_list(lst):\n",
    "    count = 0\n",
    "    for num in lst:\n",
    "        if is_prime(num):\n",
    "            count += 1\n",
    "    return count\n",
    "print(\"The number of prime numbers in the list is:\", count_primes_in_list(a))"
   ]
  },
  {
   "cell_type": "code",
   "execution_count": 2,
   "metadata": {},
   "outputs": [
    {
     "name": "stdout",
     "output_type": "stream",
     "text": [
      "Bags to distribute to students: [2, 3, 4]\n"
     ]
    }
   ],
   "source": [
    "bags = [7, 3, 2, 12, 4, 8, 10] #5\n",
    "students = 3\n",
    "def distribute_mangoes(bags, students):\n",
    "    bags.sort()  \n",
    "    min_diff = float('inf')\n",
    "    for i in range(len(bags) - students + 1):\n",
    "        diff = bags[i + students - 1] - bags[i]\n",
    "        if diff < min_diff:\n",
    "            min_diff = diff\n",
    "\n",
    "    bags_to_distribute = []\n",
    "    for i in range(len(bags) - students + 1):\n",
    "        diff = bags[i + students - 1] - bags[i]\n",
    "        if diff == min_diff:\n",
    "            bags_to_distribute = bags[i:i + students]\n",
    "            break\n",
    "    return bags_to_distribute\n",
    "distributed_bags = distribute_mangoes(bags, students)\n",
    "print(\"Bags to distribute to students:\", distributed_bags)"
   ]
  },
  {
   "cell_type": "code",
   "execution_count": 6,
   "metadata": {},
   "outputs": [
    {
     "name": "stdout",
     "output_type": "stream",
     "text": [
      "First non-repeating element: 8\n"
     ]
    }
   ],
   "source": [
    "a = [1, 6, 3, 6, 7, 1, 3, 7, 8] #7\n",
    "def first_non_repeating_element(nums):\n",
    "    count_map = {}\n",
    "    for a in nums:\n",
    "        if a in count_map:\n",
    "            count_map[a] += 1\n",
    "        else:\n",
    "            count_map[a] = 1\n",
    "    \n",
    "    for num in nums:\n",
    "        if count_map[a] == 1:\n",
    "            return a\n",
    "    return None\n",
    "result = first_non_repeating_element(a)\n",
    "print(\"First non-repeating element:\", result)"
   ]
  },
  {
   "cell_type": "code",
   "execution_count": null,
   "metadata": {},
   "outputs": [],
   "source": []
  }
 ],
 "metadata": {
  "kernelspec": {
   "display_name": "Python 3",
   "language": "python",
   "name": "python3"
  },
  "language_info": {
   "codemirror_mode": {
    "name": "ipython",
    "version": 3
   },
   "file_extension": ".py",
   "mimetype": "text/x-python",
   "name": "python",
   "nbconvert_exporter": "python",
   "pygments_lexer": "ipython3",
   "version": "3.12.2"
  }
 },
 "nbformat": 4,
 "nbformat_minor": 2
}
